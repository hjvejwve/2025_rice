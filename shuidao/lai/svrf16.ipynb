{
 "cells": [
  {
   "cell_type": "code",
   "id": "initial_id",
   "metadata": {
    "collapsed": true,
    "ExecuteTime": {
     "end_time": "2025-04-03T05:37:16.875631Z",
     "start_time": "2025-04-03T05:34:28.922116Z"
    }
   },
   "source": [
    "import pandas as pd\n",
    "import numpy as np\n",
    "import shap\n",
    "import matplotlib.pyplot as plt\n",
    "from sklearn.model_selection import train_test_split, GridSearchCV, KFold\n",
    "from sklearn.metrics import mean_squared_error, r2_score, mean_absolute_error\n",
    "from sklearn.preprocessing import RobustScaler, FunctionTransformer\n",
    "from sklearn.impute import SimpleImputer\n",
    "from sklearn.feature_selection import SelectKBest, f_regression\n",
    "from scipy.stats import pearsonr\n",
    "from sklearn.svm import SVR  # 导入 SVR 模型\n",
    "\n",
    "# **1. 读取数据**\n",
    "df = pd.read_excel(r\"C:\\Users\\Lyttl\\Desktop\\rice\\ninanjie\\data\\combinedflower16.xlsx\", header=None)\n",
    "\n",
    "# **2. 处理数据格式**\n",
    "df.columns = df.iloc[0]  # 第一行变成列名（样本名）\n",
    "df = df.iloc[1:]  # 删除第一行\n",
    "df.set_index(df.columns[0], inplace=True)  # 第一列 (基因 ID) 作为索引\n",
    "df.index.name = \"gene\"\n",
    "\n",
    "# **3. 确保所有数据是数值型**\n",
    "df = df.apply(pd.to_numeric, errors=\"coerce\")  # 转换为数值\n",
    "\n",
    "# **4. 提取目标变量 (y) 和 特征矩阵 (X)**\n",
    "y = df.loc[\"Flowering\"].astype(float)  # Flowering 行作为目标变量\n",
    "X = df.drop(index=[\"Flowering\"]).T  # 删除 Flowering 行，并转置使样本为行，基因为列\n",
    "\n",
    "print(\"转置前 X 形状:\", df.drop(index=[\"Flowering\"]).shape)\n",
    "print(\"转置后 X 形状:\", X.shape)\n",
    "print(\"目标变量 y 形状:\", y.shape)\n",
    "\n",
    "# **5. 处理缺失值**\n",
    "imputer = SimpleImputer(strategy=\"mean\")\n",
    "X_imputed = pd.DataFrame(imputer.fit_transform(X), columns=X.columns, index=X.index)\n",
    "\n",
    "# **6. 进行标准化**\n",
    "scaler = RobustScaler()\n",
    "X_scaled = pd.DataFrame(scaler.fit_transform(X_imputed), columns=X.columns, index=X.index)\n",
    "\n",
    "# **7. 特征选择**\n",
    "selector = SelectKBest(f_regression, k=10000)  # 选择前 10000 个最重要特征\n",
    "X_selected = selector.fit_transform(X_scaled, y)\n",
    "\n",
    "# 获取被选中的特征名称\n",
    "selected_features = X_scaled.columns[selector.get_support()]\n",
    "\n",
    "print(\"选择的特征数:\", X_selected.shape[1])\n",
    "\n",
    "# **8. 对目标变量 (y) 进行对数变换**\n",
    "transformer = FunctionTransformer(np.log1p, validate=True)\n",
    "y_transformed = transformer.fit_transform(y.values.reshape(-1, 1)).ravel()\n",
    "\n",
    "# **9. 交叉验证 (KFold)**\n",
    "kf = KFold(n_splits=5, shuffle=True, random_state=42)\n",
    "\n",
    "# **10. SVR 超参数优化**\n",
    "param_grid_svr = {\n",
    "    'C': [0.1, 1, 10],  # 惩罚系数\n",
    "    'epsilon': [0.01, 0.1, 0.5],  # 误差敏感区\n",
    "    'kernel': ['linear', 'rbf'],  # 核函数\n",
    "    'gamma': ['scale', 'auto']  # 核函数系数\n",
    "}\n",
    "\n",
    "grid_search_svr = GridSearchCV(SVR(), param_grid_svr, cv=kf, n_jobs=-1, verbose=2, scoring='neg_mean_squared_error')\n",
    "grid_search_svr.fit(X_selected, y_transformed)\n",
    "best_svr_model = grid_search_svr.best_estimator_\n",
    "\n",
    "# **11. 评估函数**\n",
    "def evaluate(model, X, y_true):\n",
    "    y_pred = model.predict(X)\n",
    "    mse = mean_squared_error(y_true, y_pred)\n",
    "    r2 = r2_score(y_true, y_pred)\n",
    "    mae = mean_absolute_error(y_true, y_pred)\n",
    "    rmse = np.sqrt(mse)\n",
    "    pcc, _ = pearsonr(y_true, y_pred)\n",
    "    return mse, r2, mae, rmse, pcc\n",
    "\n",
    "# **12. 训练 & 评估**\n",
    "def train_and_evaluate(model, X_train, X_val, X_test, y_train, y_val, y_test):\n",
    "    model.fit(X_train, y_train)\n",
    "    mse_train, r2_train, mae_train, rmse_train, pcc_train = evaluate(model, X_train, y_train)\n",
    "    mse_val, r2_val, mae_val, rmse_val, pcc_val = evaluate(model, X_val, y_val)\n",
    "    mse_test, r2_test, mae_test, rmse_test, pcc_test = evaluate(model, X_test, y_test)\n",
    "    \n",
    "    return r2_train, r2_val, r2_test, mse_train, mse_val, mse_test, mae_train, mae_val, mae_test, rmse_train, rmse_val, rmse_test, pcc_train, pcc_val, pcc_test\n",
    "\n",
    "# **13. 数据集划分**\n",
    "X_train, X_temp, y_train, y_temp = train_test_split(X_selected, y_transformed, test_size=0.3, random_state=42)\n",
    "X_val, X_test, y_val, y_test = train_test_split(X_temp, y_temp, test_size=0.5, random_state=42)\n",
    "\n",
    "# **14. 评估模型**\n",
    "metrics_svr = train_and_evaluate(best_svr_model, X_train, X_val, X_test, y_train, y_val, y_test)\n",
    "\n",
    "# **15. 输出评估结果**\n",
    "def print_metrics(name, metrics):\n",
    "    print(f\"{name} - 训练集 R²: {metrics[0]}, 验证集 R²: {metrics[1]}, 测试集 R²: {metrics[2]}\")\n",
    "    print(f\"{name} - 训练集 MSE: {metrics[3]}, 验证集 MSE: {metrics[4]}, 测试集 MSE: {metrics[5]}\")\n",
    "    print(f\"{name} - 训练集 PCC: {metrics[12]}, 验证集 PCC: {metrics[13]}, 测试集 PCC: {metrics[14]}\")\n",
    "\n",
    "print_metrics(\"SVR with Tuning\", metrics_svr)\n",
    "\n",
    "# **16. SHAP 可解释性分析**\n",
    "explainer = shap.KernelExplainer(best_svr_model.predict, X_train[:50])  # 取部分数据作为背景值\n",
    "shap_values = explainer.shap_values(X_train[:200])  # 计算 SHAP 值（避免计算量过大）\n",
    "\n",
    "# 转换 SHAP 值为 NumPy 数组\n",
    "shap_values = np.array(shap_values)\n",
    "\n",
    "# 创建特征名称对应的 DataFrame\n",
    "X_selected_df = pd.DataFrame(X_selected, columns=selected_features)\n",
    "\n",
    "# 生成 SHAP Summary Plot（特征重要性）\n",
    "shap.summary_plot(shap_values, X_selected_df.iloc[:200], max_display=10)\n",
    "\n",
    "# 生成 SHAP 条形图\n",
    "shap.summary_plot(shap_values, X_selected_df.iloc[:200], plot_type=\"bar\", max_display=10)\n"
   ],
   "outputs": [
    {
     "name": "stdout",
     "output_type": "stream",
     "text": [
      "转置前 X 形状: (24175, 383)\n",
      "转置后 X 形状: (383, 24175)\n",
      "目标变量 y 形状: (383,)\n",
      "选择的特征数: 10000\n",
      "Fitting 5 folds for each of 36 candidates, totalling 180 fits\n"
     ]
    },
    {
     "name": "stderr",
     "output_type": "stream",
     "text": [
      "C:\\Users\\Lyttl\\Desktop\\nky_rice\\.venv\\Lib\\site-packages\\joblib\\externals\\loky\\process_executor.py:752: UserWarning: A worker stopped while some jobs were given to the executor. This can be caused by a too short worker timeout or by a memory leak.\n",
      "  warnings.warn(\n"
     ]
    },
    {
     "name": "stdout",
     "output_type": "stream",
     "text": [
      "SVR with Tuning - 训练集 R²: 0.7418426398691651, 验证集 R²: 0.21987365423425276, 测试集 R²: 0.14254773928674846\n",
      "SVR with Tuning - 训练集 MSE: 0.022571421787664723, 验证集 MSE: 0.0717060279447448, 测试集 MSE: 0.08316861969159849\n",
      "SVR with Tuning - 训练集 PCC: 0.8909828259502832, 验证集 PCC: 0.48587176637611, 测试集 PCC: 0.42904754538910167\n"
     ]
    },
    {
     "name": "stderr",
     "output_type": "stream",
     "text": [
      "  0%|          | 0/200 [00:37<?, ?it/s]\n"
     ]
    },
    {
     "ename": "MemoryError",
     "evalue": "Unable to allocate 82.1 GiB for an array with shape (22048, 500000) and data type float64",
     "output_type": "error",
     "traceback": [
      "\u001B[1;31m---------------------------------------------------------------------------\u001B[0m",
      "\u001B[1;31mMemoryError\u001B[0m                               Traceback (most recent call last)",
      "Cell \u001B[1;32mIn[4], line 105\u001B[0m\n\u001B[0;32m    103\u001B[0m \u001B[38;5;66;03m# **16. SHAP 可解释性分析**\u001B[39;00m\n\u001B[0;32m    104\u001B[0m explainer \u001B[38;5;241m=\u001B[39m shap\u001B[38;5;241m.\u001B[39mKernelExplainer(best_svr_model\u001B[38;5;241m.\u001B[39mpredict, X_train[:\u001B[38;5;241m50\u001B[39m])  \u001B[38;5;66;03m# 取部分数据作为背景值\u001B[39;00m\n\u001B[1;32m--> 105\u001B[0m shap_values \u001B[38;5;241m=\u001B[39m \u001B[43mexplainer\u001B[49m\u001B[38;5;241;43m.\u001B[39;49m\u001B[43mshap_values\u001B[49m\u001B[43m(\u001B[49m\u001B[43mX_train\u001B[49m\u001B[43m[\u001B[49m\u001B[43m:\u001B[49m\u001B[38;5;241;43m200\u001B[39;49m\u001B[43m]\u001B[49m\u001B[43m)\u001B[49m  \u001B[38;5;66;03m# 计算 SHAP 值（避免计算量过大）\u001B[39;00m\n\u001B[0;32m    107\u001B[0m \u001B[38;5;66;03m# 转换 SHAP 值为 NumPy 数组\u001B[39;00m\n\u001B[0;32m    108\u001B[0m shap_values \u001B[38;5;241m=\u001B[39m np\u001B[38;5;241m.\u001B[39marray(shap_values)\n",
      "File \u001B[1;32m~\\Desktop\\nky_rice\\.venv\\Lib\\site-packages\\shap\\explainers\\_kernel.py:271\u001B[0m, in \u001B[0;36mKernelExplainer.shap_values\u001B[1;34m(self, X, **kwargs)\u001B[0m\n\u001B[0;32m    269\u001B[0m \u001B[38;5;28;01mif\u001B[39;00m \u001B[38;5;28mself\u001B[39m\u001B[38;5;241m.\u001B[39mkeep_index:\n\u001B[0;32m    270\u001B[0m     data \u001B[38;5;241m=\u001B[39m convert_to_instance_with_index(data, column_name, index_value[i:i \u001B[38;5;241m+\u001B[39m \u001B[38;5;241m1\u001B[39m], index_name)\n\u001B[1;32m--> 271\u001B[0m explanations\u001B[38;5;241m.\u001B[39mappend(\u001B[38;5;28;43mself\u001B[39;49m\u001B[38;5;241;43m.\u001B[39;49m\u001B[43mexplain\u001B[49m\u001B[43m(\u001B[49m\u001B[43mdata\u001B[49m\u001B[43m,\u001B[49m\u001B[43m \u001B[49m\u001B[38;5;241;43m*\u001B[39;49m\u001B[38;5;241;43m*\u001B[39;49m\u001B[43mkwargs\u001B[49m\u001B[43m)\u001B[49m)\n\u001B[0;32m    272\u001B[0m \u001B[38;5;28;01mif\u001B[39;00m kwargs\u001B[38;5;241m.\u001B[39mget(\u001B[38;5;124m\"\u001B[39m\u001B[38;5;124mgc_collect\u001B[39m\u001B[38;5;124m\"\u001B[39m, \u001B[38;5;28;01mFalse\u001B[39;00m):\n\u001B[0;32m    273\u001B[0m     gc\u001B[38;5;241m.\u001B[39mcollect()\n",
      "File \u001B[1;32m~\\Desktop\\nky_rice\\.venv\\Lib\\site-packages\\shap\\explainers\\_kernel.py:362\u001B[0m, in \u001B[0;36mKernelExplainer.explain\u001B[1;34m(self, incoming_instance, **kwargs)\u001B[0m\n\u001B[0;32m    359\u001B[0m         \u001B[38;5;28mself\u001B[39m\u001B[38;5;241m.\u001B[39mnsamples \u001B[38;5;241m=\u001B[39m \u001B[38;5;28mself\u001B[39m\u001B[38;5;241m.\u001B[39mmax_samples\n\u001B[0;32m    361\u001B[0m \u001B[38;5;66;03m# reserve space for some of our computations\u001B[39;00m\n\u001B[1;32m--> 362\u001B[0m \u001B[38;5;28;43mself\u001B[39;49m\u001B[38;5;241;43m.\u001B[39;49m\u001B[43mallocate\u001B[49m\u001B[43m(\u001B[49m\u001B[43m)\u001B[49m\n\u001B[0;32m    364\u001B[0m \u001B[38;5;66;03m# weight the different subset sizes\u001B[39;00m\n\u001B[0;32m    365\u001B[0m num_subset_sizes \u001B[38;5;241m=\u001B[39m \u001B[38;5;28mint\u001B[39m(np\u001B[38;5;241m.\u001B[39mceil((\u001B[38;5;28mself\u001B[39m\u001B[38;5;241m.\u001B[39mM \u001B[38;5;241m-\u001B[39m \u001B[38;5;241m1\u001B[39m) \u001B[38;5;241m/\u001B[39m \u001B[38;5;241m2.0\u001B[39m))\n",
      "File \u001B[1;32m~\\Desktop\\nky_rice\\.venv\\Lib\\site-packages\\shap\\explainers\\_kernel.py:567\u001B[0m, in \u001B[0;36mKernelExplainer.allocate\u001B[1;34m(self)\u001B[0m\n\u001B[0;32m    565\u001B[0m         \u001B[38;5;28mself\u001B[39m\u001B[38;5;241m.\u001B[39msynth_data \u001B[38;5;241m=\u001B[39m scipy\u001B[38;5;241m.\u001B[39msparse\u001B[38;5;241m.\u001B[39mcsr_matrix((new_data, new_indices, new_indptr), shape\u001B[38;5;241m=\u001B[39mshape)\u001B[38;5;241m.\u001B[39mtolil()\n\u001B[0;32m    566\u001B[0m \u001B[38;5;28;01melse\u001B[39;00m:\n\u001B[1;32m--> 567\u001B[0m     \u001B[38;5;28mself\u001B[39m\u001B[38;5;241m.\u001B[39msynth_data \u001B[38;5;241m=\u001B[39m \u001B[43mnp\u001B[49m\u001B[38;5;241;43m.\u001B[39;49m\u001B[43mtile\u001B[49m\u001B[43m(\u001B[49m\u001B[38;5;28;43mself\u001B[39;49m\u001B[38;5;241;43m.\u001B[39;49m\u001B[43mdata\u001B[49m\u001B[38;5;241;43m.\u001B[39;49m\u001B[43mdata\u001B[49m\u001B[43m,\u001B[49m\u001B[43m \u001B[49m\u001B[43m(\u001B[49m\u001B[38;5;28;43mself\u001B[39;49m\u001B[38;5;241;43m.\u001B[39;49m\u001B[43mnsamples\u001B[49m\u001B[43m,\u001B[49m\u001B[43m \u001B[49m\u001B[38;5;241;43m1\u001B[39;49m\u001B[43m)\u001B[49m\u001B[43m)\u001B[49m\n\u001B[0;32m    569\u001B[0m \u001B[38;5;28mself\u001B[39m\u001B[38;5;241m.\u001B[39mmaskMatrix \u001B[38;5;241m=\u001B[39m np\u001B[38;5;241m.\u001B[39mzeros((\u001B[38;5;28mself\u001B[39m\u001B[38;5;241m.\u001B[39mnsamples, \u001B[38;5;28mself\u001B[39m\u001B[38;5;241m.\u001B[39mM))\n\u001B[0;32m    570\u001B[0m \u001B[38;5;28mself\u001B[39m\u001B[38;5;241m.\u001B[39mkernelWeights \u001B[38;5;241m=\u001B[39m np\u001B[38;5;241m.\u001B[39mzeros(\u001B[38;5;28mself\u001B[39m\u001B[38;5;241m.\u001B[39mnsamples)\n",
      "File \u001B[1;32m~\\Desktop\\nky_rice\\.venv\\Lib\\site-packages\\numpy\\lib\\shape_base.py:1272\u001B[0m, in \u001B[0;36mtile\u001B[1;34m(A, reps)\u001B[0m\n\u001B[0;32m   1270\u001B[0m     \u001B[38;5;28;01mfor\u001B[39;00m dim_in, nrep \u001B[38;5;129;01min\u001B[39;00m \u001B[38;5;28mzip\u001B[39m(c\u001B[38;5;241m.\u001B[39mshape, tup):\n\u001B[0;32m   1271\u001B[0m         \u001B[38;5;28;01mif\u001B[39;00m nrep \u001B[38;5;241m!=\u001B[39m \u001B[38;5;241m1\u001B[39m:\n\u001B[1;32m-> 1272\u001B[0m             c \u001B[38;5;241m=\u001B[39m \u001B[43mc\u001B[49m\u001B[38;5;241;43m.\u001B[39;49m\u001B[43mreshape\u001B[49m\u001B[43m(\u001B[49m\u001B[38;5;241;43m-\u001B[39;49m\u001B[38;5;241;43m1\u001B[39;49m\u001B[43m,\u001B[49m\u001B[43m \u001B[49m\u001B[43mn\u001B[49m\u001B[43m)\u001B[49m\u001B[38;5;241;43m.\u001B[39;49m\u001B[43mrepeat\u001B[49m\u001B[43m(\u001B[49m\u001B[43mnrep\u001B[49m\u001B[43m,\u001B[49m\u001B[43m \u001B[49m\u001B[38;5;241;43m0\u001B[39;49m\u001B[43m)\u001B[49m\n\u001B[0;32m   1273\u001B[0m         n \u001B[38;5;241m/\u001B[39m\u001B[38;5;241m/\u001B[39m\u001B[38;5;241m=\u001B[39m dim_in\n\u001B[0;32m   1274\u001B[0m \u001B[38;5;28;01mreturn\u001B[39;00m c\u001B[38;5;241m.\u001B[39mreshape(shape_out)\n",
      "\u001B[1;31mMemoryError\u001B[0m: Unable to allocate 82.1 GiB for an array with shape (22048, 500000) and data type float64"
     ]
    }
   ],
   "execution_count": 4
  },
  {
   "metadata": {
    "ExecuteTime": {
     "end_time": "2025-04-03T05:42:29.983043Z",
     "start_time": "2025-04-03T05:42:18.881766Z"
    }
   },
   "cell_type": "code",
   "source": [
    "# **16. SHAP 可解释性分析**\n",
    "# 选择较小的训练集数据计算 SHAP 值\n",
    "X_train_small = X_train[:50]  # 只使用前 50 个样本作为背景值\n",
    "explainer = shap.KernelExplainer(best_svr_model.predict, X_train_small)  # 使用较小的背景数据\n",
    "shap_values = explainer.shap_values(X_train[:100])  # 计算前 100 个样本的 SHAP 值\n",
    "\n",
    "# 转换 SHAP 值为 NumPy 数组\n",
    "shap_values = np.array(shap_values)\n",
    "\n",
    "# 创建特征名称对应的 DataFrame\n",
    "X_selected_df = pd.DataFrame(X_selected, columns=selected_features)\n",
    "\n",
    "# 生成 SHAP Summary Plot（特征重要性）\n",
    "shap.summary_plot(shap_values, X_selected_df.iloc[:100], max_display=10)\n",
    "\n",
    "# 生成 SHAP 条形图\n",
    "shap.summary_plot(shap_values, X_selected_df.iloc[:100], plot_type=\"bar\", max_display=10)\n"
   ],
   "id": "f83db1250e51cd95",
   "outputs": [
    {
     "name": "stderr",
     "output_type": "stream",
     "text": [
      "  0%|          | 0/100 [00:10<?, ?it/s]\n"
     ]
    },
    {
     "ename": "MemoryError",
     "evalue": "Unable to allocate 82.1 GiB for an array with shape (22048, 500000) and data type float64",
     "output_type": "error",
     "traceback": [
      "\u001B[1;31m---------------------------------------------------------------------------\u001B[0m",
      "\u001B[1;31mMemoryError\u001B[0m                               Traceback (most recent call last)",
      "Cell \u001B[1;32mIn[5], line 5\u001B[0m\n\u001B[0;32m      3\u001B[0m X_train_small \u001B[38;5;241m=\u001B[39m X_train[:\u001B[38;5;241m50\u001B[39m]  \u001B[38;5;66;03m# 只使用前 50 个样本作为背景值\u001B[39;00m\n\u001B[0;32m      4\u001B[0m explainer \u001B[38;5;241m=\u001B[39m shap\u001B[38;5;241m.\u001B[39mKernelExplainer(best_svr_model\u001B[38;5;241m.\u001B[39mpredict, X_train_small)  \u001B[38;5;66;03m# 使用较小的背景数据\u001B[39;00m\n\u001B[1;32m----> 5\u001B[0m shap_values \u001B[38;5;241m=\u001B[39m \u001B[43mexplainer\u001B[49m\u001B[38;5;241;43m.\u001B[39;49m\u001B[43mshap_values\u001B[49m\u001B[43m(\u001B[49m\u001B[43mX_train\u001B[49m\u001B[43m[\u001B[49m\u001B[43m:\u001B[49m\u001B[38;5;241;43m100\u001B[39;49m\u001B[43m]\u001B[49m\u001B[43m)\u001B[49m  \u001B[38;5;66;03m# 计算前 100 个样本的 SHAP 值\u001B[39;00m\n\u001B[0;32m      7\u001B[0m \u001B[38;5;66;03m# 转换 SHAP 值为 NumPy 数组\u001B[39;00m\n\u001B[0;32m      8\u001B[0m shap_values \u001B[38;5;241m=\u001B[39m np\u001B[38;5;241m.\u001B[39marray(shap_values)\n",
      "File \u001B[1;32m~\\Desktop\\nky_rice\\.venv\\Lib\\site-packages\\shap\\explainers\\_kernel.py:271\u001B[0m, in \u001B[0;36mKernelExplainer.shap_values\u001B[1;34m(self, X, **kwargs)\u001B[0m\n\u001B[0;32m    269\u001B[0m \u001B[38;5;28;01mif\u001B[39;00m \u001B[38;5;28mself\u001B[39m\u001B[38;5;241m.\u001B[39mkeep_index:\n\u001B[0;32m    270\u001B[0m     data \u001B[38;5;241m=\u001B[39m convert_to_instance_with_index(data, column_name, index_value[i:i \u001B[38;5;241m+\u001B[39m \u001B[38;5;241m1\u001B[39m], index_name)\n\u001B[1;32m--> 271\u001B[0m explanations\u001B[38;5;241m.\u001B[39mappend(\u001B[38;5;28;43mself\u001B[39;49m\u001B[38;5;241;43m.\u001B[39;49m\u001B[43mexplain\u001B[49m\u001B[43m(\u001B[49m\u001B[43mdata\u001B[49m\u001B[43m,\u001B[49m\u001B[43m \u001B[49m\u001B[38;5;241;43m*\u001B[39;49m\u001B[38;5;241;43m*\u001B[39;49m\u001B[43mkwargs\u001B[49m\u001B[43m)\u001B[49m)\n\u001B[0;32m    272\u001B[0m \u001B[38;5;28;01mif\u001B[39;00m kwargs\u001B[38;5;241m.\u001B[39mget(\u001B[38;5;124m\"\u001B[39m\u001B[38;5;124mgc_collect\u001B[39m\u001B[38;5;124m\"\u001B[39m, \u001B[38;5;28;01mFalse\u001B[39;00m):\n\u001B[0;32m    273\u001B[0m     gc\u001B[38;5;241m.\u001B[39mcollect()\n",
      "File \u001B[1;32m~\\Desktop\\nky_rice\\.venv\\Lib\\site-packages\\shap\\explainers\\_kernel.py:362\u001B[0m, in \u001B[0;36mKernelExplainer.explain\u001B[1;34m(self, incoming_instance, **kwargs)\u001B[0m\n\u001B[0;32m    359\u001B[0m         \u001B[38;5;28mself\u001B[39m\u001B[38;5;241m.\u001B[39mnsamples \u001B[38;5;241m=\u001B[39m \u001B[38;5;28mself\u001B[39m\u001B[38;5;241m.\u001B[39mmax_samples\n\u001B[0;32m    361\u001B[0m \u001B[38;5;66;03m# reserve space for some of our computations\u001B[39;00m\n\u001B[1;32m--> 362\u001B[0m \u001B[38;5;28;43mself\u001B[39;49m\u001B[38;5;241;43m.\u001B[39;49m\u001B[43mallocate\u001B[49m\u001B[43m(\u001B[49m\u001B[43m)\u001B[49m\n\u001B[0;32m    364\u001B[0m \u001B[38;5;66;03m# weight the different subset sizes\u001B[39;00m\n\u001B[0;32m    365\u001B[0m num_subset_sizes \u001B[38;5;241m=\u001B[39m \u001B[38;5;28mint\u001B[39m(np\u001B[38;5;241m.\u001B[39mceil((\u001B[38;5;28mself\u001B[39m\u001B[38;5;241m.\u001B[39mM \u001B[38;5;241m-\u001B[39m \u001B[38;5;241m1\u001B[39m) \u001B[38;5;241m/\u001B[39m \u001B[38;5;241m2.0\u001B[39m))\n",
      "File \u001B[1;32m~\\Desktop\\nky_rice\\.venv\\Lib\\site-packages\\shap\\explainers\\_kernel.py:567\u001B[0m, in \u001B[0;36mKernelExplainer.allocate\u001B[1;34m(self)\u001B[0m\n\u001B[0;32m    565\u001B[0m         \u001B[38;5;28mself\u001B[39m\u001B[38;5;241m.\u001B[39msynth_data \u001B[38;5;241m=\u001B[39m scipy\u001B[38;5;241m.\u001B[39msparse\u001B[38;5;241m.\u001B[39mcsr_matrix((new_data, new_indices, new_indptr), shape\u001B[38;5;241m=\u001B[39mshape)\u001B[38;5;241m.\u001B[39mtolil()\n\u001B[0;32m    566\u001B[0m \u001B[38;5;28;01melse\u001B[39;00m:\n\u001B[1;32m--> 567\u001B[0m     \u001B[38;5;28mself\u001B[39m\u001B[38;5;241m.\u001B[39msynth_data \u001B[38;5;241m=\u001B[39m \u001B[43mnp\u001B[49m\u001B[38;5;241;43m.\u001B[39;49m\u001B[43mtile\u001B[49m\u001B[43m(\u001B[49m\u001B[38;5;28;43mself\u001B[39;49m\u001B[38;5;241;43m.\u001B[39;49m\u001B[43mdata\u001B[49m\u001B[38;5;241;43m.\u001B[39;49m\u001B[43mdata\u001B[49m\u001B[43m,\u001B[49m\u001B[43m \u001B[49m\u001B[43m(\u001B[49m\u001B[38;5;28;43mself\u001B[39;49m\u001B[38;5;241;43m.\u001B[39;49m\u001B[43mnsamples\u001B[49m\u001B[43m,\u001B[49m\u001B[43m \u001B[49m\u001B[38;5;241;43m1\u001B[39;49m\u001B[43m)\u001B[49m\u001B[43m)\u001B[49m\n\u001B[0;32m    569\u001B[0m \u001B[38;5;28mself\u001B[39m\u001B[38;5;241m.\u001B[39mmaskMatrix \u001B[38;5;241m=\u001B[39m np\u001B[38;5;241m.\u001B[39mzeros((\u001B[38;5;28mself\u001B[39m\u001B[38;5;241m.\u001B[39mnsamples, \u001B[38;5;28mself\u001B[39m\u001B[38;5;241m.\u001B[39mM))\n\u001B[0;32m    570\u001B[0m \u001B[38;5;28mself\u001B[39m\u001B[38;5;241m.\u001B[39mkernelWeights \u001B[38;5;241m=\u001B[39m np\u001B[38;5;241m.\u001B[39mzeros(\u001B[38;5;28mself\u001B[39m\u001B[38;5;241m.\u001B[39mnsamples)\n",
      "File \u001B[1;32m~\\Desktop\\nky_rice\\.venv\\Lib\\site-packages\\numpy\\lib\\shape_base.py:1272\u001B[0m, in \u001B[0;36mtile\u001B[1;34m(A, reps)\u001B[0m\n\u001B[0;32m   1270\u001B[0m     \u001B[38;5;28;01mfor\u001B[39;00m dim_in, nrep \u001B[38;5;129;01min\u001B[39;00m \u001B[38;5;28mzip\u001B[39m(c\u001B[38;5;241m.\u001B[39mshape, tup):\n\u001B[0;32m   1271\u001B[0m         \u001B[38;5;28;01mif\u001B[39;00m nrep \u001B[38;5;241m!=\u001B[39m \u001B[38;5;241m1\u001B[39m:\n\u001B[1;32m-> 1272\u001B[0m             c \u001B[38;5;241m=\u001B[39m \u001B[43mc\u001B[49m\u001B[38;5;241;43m.\u001B[39;49m\u001B[43mreshape\u001B[49m\u001B[43m(\u001B[49m\u001B[38;5;241;43m-\u001B[39;49m\u001B[38;5;241;43m1\u001B[39;49m\u001B[43m,\u001B[49m\u001B[43m \u001B[49m\u001B[43mn\u001B[49m\u001B[43m)\u001B[49m\u001B[38;5;241;43m.\u001B[39;49m\u001B[43mrepeat\u001B[49m\u001B[43m(\u001B[49m\u001B[43mnrep\u001B[49m\u001B[43m,\u001B[49m\u001B[43m \u001B[49m\u001B[38;5;241;43m0\u001B[39;49m\u001B[43m)\u001B[49m\n\u001B[0;32m   1273\u001B[0m         n \u001B[38;5;241m/\u001B[39m\u001B[38;5;241m/\u001B[39m\u001B[38;5;241m=\u001B[39m dim_in\n\u001B[0;32m   1274\u001B[0m \u001B[38;5;28;01mreturn\u001B[39;00m c\u001B[38;5;241m.\u001B[39mreshape(shape_out)\n",
      "\u001B[1;31mMemoryError\u001B[0m: Unable to allocate 82.1 GiB for an array with shape (22048, 500000) and data type float64"
     ]
    }
   ],
   "execution_count": 5
  },
  {
   "metadata": {},
   "cell_type": "code",
   "outputs": [],
   "execution_count": null,
   "source": "",
   "id": "5fac9786a3e93ef7"
  }
 ],
 "metadata": {
  "kernelspec": {
   "display_name": "Python 3",
   "language": "python",
   "name": "python3"
  },
  "language_info": {
   "codemirror_mode": {
    "name": "ipython",
    "version": 2
   },
   "file_extension": ".py",
   "mimetype": "text/x-python",
   "name": "python",
   "nbconvert_exporter": "python",
   "pygments_lexer": "ipython2",
   "version": "2.7.6"
  }
 },
 "nbformat": 4,
 "nbformat_minor": 5
}
