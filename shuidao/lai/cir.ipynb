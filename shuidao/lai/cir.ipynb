{
 "cells": [
  {
   "cell_type": "code",
   "id": "initial_id",
   "metadata": {
    "collapsed": true,
    "ExecuteTime": {
     "end_time": "2025-04-13T01:54:29.352608Z",
     "start_time": "2025-04-13T01:54:26.312931Z"
    }
   },
   "source": [
    "import pandas as pd\n",
    "\n",
    "# 读取 Excel 文件\n",
    "file_path = r\"C:\\Users\\Lyttl\\Desktop\\circulation1.xlsx\"  # 请确保该文件与代码在同一目录，或者使用完整路径\n",
    "df = pd.read_excel(file_path)\n",
    "\n",
    "# 假设第一列是基因名称（确保列索引为 0）\n",
    "gene_counts = df.iloc[:, 0].value_counts()\n",
    "\n",
    "# 输出前 10 个基因及其出现次数\n",
    "print(gene_counts.head(10))\n",
    "\n",
    "# 如果需要将统计结果保存到 Excel\n",
    "gene_counts.to_excel(\"gene_counts.xlsx\", sheet_name=\"Gene Frequency\")\n",
    "print(\"基因统计已保存为 gene_counts.xlsx\")\n"
   ],
   "outputs": [
    {
     "name": "stdout",
     "output_type": "stream",
     "text": [
      "OS01T06417\n",
      "OS06T03200    3\n",
      "OS03T07755    2\n",
      "OS01T06417    2\n",
      "OS04T05081    2\n",
      "OS02T01776    2\n",
      "OS07T06010    2\n",
      "OS01T01718    1\n",
      "OS04T04048    1\n",
      "OS01T02055    1\n",
      "OS01T02569    1\n",
      "Name: count, dtype: int64\n",
      "基因统计已保存为 gene_counts.xlsx\n"
     ]
    }
   ],
   "execution_count": 1
  },
  {
   "metadata": {},
   "cell_type": "code",
   "outputs": [],
   "execution_count": null,
   "source": "",
   "id": "48388911e79f5a51"
  }
 ],
 "metadata": {
  "kernelspec": {
   "display_name": "Python 3",
   "language": "python",
   "name": "python3"
  },
  "language_info": {
   "codemirror_mode": {
    "name": "ipython",
    "version": 2
   },
   "file_extension": ".py",
   "mimetype": "text/x-python",
   "name": "python",
   "nbconvert_exporter": "python",
   "pygments_lexer": "ipython2",
   "version": "2.7.6"
  }
 },
 "nbformat": 4,
 "nbformat_minor": 5
}
