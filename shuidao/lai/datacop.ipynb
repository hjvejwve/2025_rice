{
 "cells": [
  {
   "cell_type": "code",
   "id": "initial_id",
   "metadata": {
    "collapsed": true,
    "ExecuteTime": {
     "end_time": "2025-04-14T12:56:21.818565Z",
     "start_time": "2025-04-14T12:56:14.435976Z"
    }
   },
   "source": [
    "import pandas as pd\n",
    "\n",
    "# 1. 加载数据\n",
    "# 假设基因表达数据已经是CSV文件，并且表型数据也是CSV格式\n",
    "gene_expression_file = r\"C:\\Users\\Lyttl\\Desktop\\rice\\shuidao\\data\\expression_rpkm_new_test2_T.csv\"\n",
    "phenotype_file = r\"C:\\Users\\Lyttl\\Desktop\\rice\\shuidao\\data\\phenos_Entry_Treatment_Replicate_sorted_anaylize.csv\"\n",
    "\n",
    "# 加载数据\n",
    "gene_df = pd.read_csv(gene_expression_file)\n",
    "phenotype_df = pd.read_csv(phenotype_file)\n",
    "\n",
    "# 2. 数据清理和格式化\n",
    "# 检查表型数据中的列名\n",
    "# 检查 gene_df 和 phenotype_df 中的列名\n",
    "print(\"Gene expression columns:\", gene_df.columns)\n",
    "print(\"Phenotype columns:\", phenotype_df.columns)\n",
    "\n",
    "# 确保表型数据包含 'Entry_Treatment_Replicate' 和 'CCI' 列\n",
    "phenotype_df = phenotype_df[['Entry_Treatment_Replicate', 'Fecundity']]\n",
    "\n",
    "# 3. 提取目标变量（CCI）\n",
    "target = phenotype_df['Fecundity']\n",
    "\n",
    "# 4. 合并数据\n",
    "# 将基因表达数据与表型数据按 'Entry_Treatment_Replicate' 进行合并\n",
    "combined_df = pd.merge(gene_df, phenotype_df, on='Entry_Treatment_Replicate', how='inner')\n",
    "\n",
    "# 5. 预处理数据\n",
    "# 如果需要，可以对数据进行标准化处理（例如使用StandardScaler）\n",
    "from sklearn.preprocessing import StandardScaler\n",
    "\n",
    "scaler = StandardScaler()\n",
    "# 假设gene_df已经是数值特征，排除 'Entry_Treatment_Replicate' 和 'CCI' 列\n",
    "features = combined_df.drop(columns=['Entry_Treatment_Replicate', 'Fecundity'])\n",
    "features_scaled = scaler.fit_transform(features)\n",
    "\n",
    "# 7. 将合并的数据输出为CSV文件\n",
    "combined_df.to_csv(r\"C:\\Users\\Lyttl\\Desktop\\rice\\shuidao\\data\\combined_gene_phenotype_data_Fecundity.csv\", index=False, header=True)\n",
    "\n",
    "# 输出成功信息\n",
    "print(\"Merged data has been saved as 'combined_gene_phenotype_data_Fecundity.csv'.\")\n"
   ],
   "outputs": [
    {
     "name": "stdout",
     "output_type": "stream",
     "text": [
      "Gene expression columns: Index(['Entry_Treatment_Replicate', 'OS01T0100700-01', 'OS01T0100900-01',\n",
      "       'OS01T0101700-00', 'OS01T0102300-01', 'OS01T0102600-01',\n",
      "       'OS01T0102700-01', 'OS01T0102900-01', 'OS01T0105900-01',\n",
      "       'OS01T0106800-01',\n",
      "       ...\n",
      "       'OS09T0558100-01', 'OS09T0559600-01', 'OS09T0560300-01',\n",
      "       'OS09T0560900-01', 'OS09T0563200-01', 'OS09T0565200-02',\n",
      "       'OS09T0567300-01', 'OS09T0568800-01', 'OS09T0568900-01',\n",
      "       'OS09T0569100-01'],\n",
      "      dtype='object', length=2058)\n",
      "Phenotype columns: Index(['Entry_Treatment_Replicate', 'Entry_Treatment',\n",
      "       'Days till flowering (50%) (DTF)', 'Chlorophyll content index',\n",
      "       'Leaf area index',\n",
      "       'Flowering success (flowering and filled grain production occurred, yes or no)',\n",
      "       'Fecundity', 'DTF_mean', 'DTF_std', 'DTF_cv', 'DTF_cv_flag', 'CCI_mean',\n",
      "       'CCI_std', 'CCI_cv', 'CCI_cv_flag', 'LAI_mean', 'LAI_std', 'LAI_cv',\n",
      "       'LAI_cv_flag', 'Flowering success_mean', 'Flowering success_std',\n",
      "       'Flowering success_cv', 'Flowering success_cv_flag', 'Fecundity_mean',\n",
      "       'Fecundity_std', 'Fecundity_cv', 'Fecundity_cv_flag'],\n",
      "      dtype='object')\n",
      "Merged data has been saved as 'combined_gene_phenotype_data_Fecundity.csv'.\n"
     ]
    }
   ],
   "execution_count": 4
  },
  {
   "metadata": {
    "ExecuteTime": {
     "end_time": "2025-04-15T07:56:34.960629Z",
     "start_time": "2025-04-15T07:56:25.555286Z"
    }
   },
   "cell_type": "code",
   "source": [
    "import pandas as pd\n",
    "import numpy as np\n",
    "\n",
    "# 读取原始文件\n",
    "df = pd.read_csv(r\"C:\\Users\\Lyttl\\Desktop\\rice\\shuidao\\data\\combined_gene_phenotype_data_Fecundity.csv\")\n",
    "\n",
    "# 检查当前样本数量\n",
    "n_original = df.shape[0]\n",
    "n_target = 2000\n",
    "n_needed = n_target - n_original\n",
    "\n",
    "# 复制并添加微小扰动\n",
    "df_extra = df.sample(n=n_needed, replace=True, random_state=42).copy()\n",
    "\n",
    "# 对数值列添加高斯噪声\n",
    "for col in df.columns:\n",
    "    if df[col].dtype != 'object':  # 只对数值列操作\n",
    "        std = df[col].std()\n",
    "        if pd.notna(std) and std > 0:\n",
    "            df_extra[col] += np.random.normal(0, std * 0.01, size=df_extra.shape[0])  # 添加1%标准差的噪声\n",
    "\n",
    "# 合并原始和增强数据\n",
    "df_augmented = pd.concat([df, df_extra], ignore_index=True)\n",
    "\n",
    "# 重新编号样本ID（如果有“Sample”列）\n",
    "if \"Sample\" in df_augmented.columns:\n",
    "    df_augmented[\"Sample\"] = [f\"Sample_{i+1}\" for i in range(df_augmented.shape[0])]\n",
    "\n",
    "# 保存增强后的数据\n",
    "df_augmented.to_csv(r\"C:\\Users\\Lyttl\\Desktop\\rice\\shuidao\\data\\expanded_combined_gene_phenotype_data_Fecundity.csv\", index=False)\n",
    "\n",
    "print(f\"扩展完成：从 {n_original} 增加到 {df_augmented.shape[0]} 个样本\")\n"
   ],
   "id": "9ad1d67023f81d6a",
   "outputs": [
    {
     "name": "stdout",
     "output_type": "stream",
     "text": [
      "扩展完成：从 1320 增加到 2000 个样本\n"
     ]
    }
   ],
   "execution_count": 7
  },
  {
   "metadata": {},
   "cell_type": "code",
   "outputs": [],
   "execution_count": null,
   "source": "",
   "id": "27a6c2e440151be9"
  }
 ],
 "metadata": {
  "kernelspec": {
   "display_name": "Python 3",
   "language": "python",
   "name": "python3"
  },
  "language_info": {
   "codemirror_mode": {
    "name": "ipython",
    "version": 2
   },
   "file_extension": ".py",
   "mimetype": "text/x-python",
   "name": "python",
   "nbconvert_exporter": "python",
   "pygments_lexer": "ipython2",
   "version": "2.7.6"
  }
 },
 "nbformat": 4,
 "nbformat_minor": 5
}
