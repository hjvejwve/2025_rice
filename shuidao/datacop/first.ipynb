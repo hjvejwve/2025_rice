{
 "cells": [
  {
   "cell_type": "code",
   "execution_count": null,
   "id": "initial_id",
   "metadata": {
    "collapsed": true
   },
   "outputs": [],
   "source": [
    ""
   ]
  },
  {
   "metadata": {
    "ExecuteTime": {
     "end_time": "2025-04-01T06:24:49.508726Z",
     "start_time": "2025-04-01T06:24:49.484428Z"
    }
   },
   "cell_type": "code",
   "source": [
    "import pandas as pd\n",
    "\n",
    "# 读取 Excel 文件（无表头）\n",
    "file_path = r\"C:\\Users\\Lyttl\\Desktop\\rice\\ninanjie\\data\\modified_file.csv\"\n",
    "df = pd.read_csv(file_path, header=None)\n",
    "\n",
    "# 交换第一行和第一列\n",
    "df = df.T  # 转置 DataFrame\n",
    "\n",
    "# 保存为 CSV 文件\n",
    "output_path = r\"C:\\Users\\Lyttl\\Desktop\\rice\\ninanjie\\data\\modified_file.csv\"\n",
    "df.to_csv(output_path, index=False, encoding='utf-8')\n",
    "\n",
    "# 打印前 5 行查看结果\n",
    "print(df.head())\n",
    "print(\"第一行已删除，第一列的列名已更改为 'Sample'，文件已保存！\")\n"
   ],
   "id": "efab434cb8dd19ec",
   "outputs": [
    {
     "name": "stdout",
     "output_type": "stream",
     "text": [
      "                           0            1       2            3          4    \\\n",
      "0                       Sample         X108    X159         X350       X351   \n",
      "1               Accession name       LDV-18  MAR2-3    TOU-A1-88  TOU-A1-89   \n",
      "2    Rosette leaf number (RLN)         33.0    43.5         28.0       37.5   \n",
      "3  Rosette branch number (RBN)  4.333333333     4.5  4.333333333        2.0   \n",
      "4    Cauline leaf number (CLN)         7.25     7.0         8.75       12.5   \n",
      "\n",
      "       5            6            7            8          9    ...  \\\n",
      "0     X403         X410         X424         X428       X630  ...   \n",
      "1  Zdarec3  Doubravnik7       Draha2       Borky1  LI-OF-065  ...   \n",
      "2     35.5         40.5         44.5  33.66666667       41.0  ...   \n",
      "3      3.0  7.666666667  3.333333333          4.0        4.0  ...   \n",
      "4      7.5          9.0        10.75  8.666666667       11.5  ...   \n",
      "\n",
      "                374       375             376     377          378  \\\n",
      "0            X10001    X10002          X10009  X10011       X10013   \n",
      "1  TueV13 / TueV-13  TueWa1-2  ICE152 / Sij-2   Yeg-1     Lerik1-3   \n",
      "2             30.25     15.75           44.75    34.0         51.5   \n",
      "3               5.0       6.0             0.5     0.5  4.333333333   \n",
      "4              7.75      4.25             7.0     7.0        10.75   \n",
      "\n",
      "           379              380          381     382          383  \n",
      "0       X10015           X10018       X10020  X10022       X10023  \n",
      "1  Sha / Ara-1  ICE36 / Dobra-1         Jl-2    Uk-3     Strand-1  \n",
      "2         23.5      47.66666667        34.25    26.0  59.66666667  \n",
      "3  3.666666667              5.0  0.333333333    11.0          9.0  \n",
      "4         5.75      10.66666667          9.0     5.0        17.75  \n",
      "\n",
      "[5 rows x 384 columns]\n",
      "第一行已删除，第一列的列名已更改为 'Sample'，文件已保存！\n"
     ]
    }
   ],
   "execution_count": 2
  },
  {
   "metadata": {
    "ExecuteTime": {
     "end_time": "2025-04-02T11:40:44.870937Z",
     "start_time": "2025-04-02T11:37:17.966194Z"
    }
   },
   "cell_type": "code",
   "source": [
    "import pandas as pd\n",
    "\n",
    "# 读取基因表达数据\n",
    "gene_df = pd.read_excel(r\"C:\\Users\\Lyttl\\Desktop\\rice\\ninanjie\\data\\gene.xlsx\", sheet_name=0)  # 读取 Excel 文件\n",
    "gene_df.rename(columns={gene_df.columns[0]: \"Gene ID\"}, inplace=True)  # 确保第一列是 Gene ID\n",
    "\n",
    "# 读取表型数据\n",
    "phenotype_df = pd.read_csv(r\"C:\\Users\\Lyttl\\Desktop\\rice\\ninanjie\\data\\modified_file.csv\")  # 读取 CSV 文件\n",
    "phenotype_df.rename(columns={phenotype_df.columns[0]: \"Trait\"}, inplace=True)  # 确保第一列是 Trait\n",
    "\n",
    "# 找到两个文件中**相同**的样本列（排除第一列）\n",
    "common_samples = list(set(gene_df.columns[1:]) & set(phenotype_df.columns[1:]))\n",
    "\n",
    "# 确保列的顺序与原表格一致\n",
    "common_samples = [col for col in gene_df.columns if col in common_samples]\n",
    "\n",
    "# 仅保留 `gene.xlsx` 中与 `modified_file.csv` 共有的样本列\n",
    "gene_filtered_df = gene_df[[\"Gene ID\"] + common_samples]\n",
    "\n",
    "# 保存新的基因数据文件\n",
    "gene_filtered_df.to_excel(\"filtered_gene.xlsx\", index=False)\n",
    "\n",
    "print(\"处理完成，已生成 filtered_gene.xlsx\")\n"
   ],
   "id": "a710084c1f49e5ab",
   "outputs": [
    {
     "name": "stdout",
     "output_type": "stream",
     "text": [
      "处理完成，已生成 filtered_gene.xlsx\n"
     ]
    }
   ],
   "execution_count": 6
  },
  {
   "metadata": {
    "ExecuteTime": {
     "end_time": "2025-04-02T12:19:34.620631Z",
     "start_time": "2025-04-02T12:19:34.217010Z"
    }
   },
   "cell_type": "code",
   "source": [
    "import pandas as pd\n",
    "\n",
    "# 读取基因表达数据（只读取第一行）\n",
    "gene_header = pd.read_excel(r\"C:\\Users\\Lyttl\\Desktop\\rice\\ninanjie\\data\\gene.xlsx\", sheet_name=0, nrows=1)  # 只读取第一行\n",
    "\n",
    "# 读取表型数据（只读取第一行，并尝试不同编码）\n",
    "try:\n",
    "    phenotype_header = pd.read_csv(r\"C:\\Users\\Lyttl\\Desktop\\rice\\ninanjie\\data\\modified_file.csv\", nrows=1, encoding=\"utf-8\")  # 默认 UTF-8\n",
    "except UnicodeDecodeError:\n",
    "    try:\n",
    "        phenotype_header = pd.read_csv(r\"C:\\Users\\Lyttl\\Desktop\\rice\\ninanjie\\data\\modified_file.csv\", nrows=1, encoding=\"latin1\")  # 尝试 latin1\n",
    "    except UnicodeDecodeError:\n",
    "        phenotype_header = pd.read_csv(r\"C:\\Users\\Lyttl\\Desktop\\rice\\ninanjie\\data\\modified_file.csv\", nrows=1, encoding=\"gb18030\")  # 尝试 GB18030\n",
    "\n",
    "# 找出两个文件中相同的样本列（排除第一列）\n",
    "common_samples = list(set(gene_header.columns[1:]) & set(phenotype_header.columns[1:]))\n",
    "\n",
    "# 按原顺序排列\n",
    "common_samples = [col for col in gene_header.columns if col in common_samples]\n",
    "\n",
    "# 输出相同的样本列\n",
    "print(\"共同的样本列：\", common_samples)\n"
   ],
   "id": "61e9a4b1c254ed94",
   "outputs": [
    {
     "name": "stdout",
     "output_type": "stream",
     "text": [
      "共同的样本列： ['X108', 'X159', 'X350', 'X351', 'X403', 'X410', 'X424', 'X428', 'X630', 'X763', 'X768', 'X801', 'X915', 'X1002', 'X1829', 'X1890', 'X1925', 'X1954', 'X2016', 'X2171', 'X2202', 'X2276', 'X2278', 'X4807', 'X4826', 'X4884', 'X4958', 'X5023', 'X5104', 'X5210', 'X5236', 'X5276', 'X5349', 'X5353', 'X5486', 'X5644', 'X5720', 'X5726', 'X5741', 'X5772', 'X5779', 'X5784', 'X5800', 'X5811', 'X5874', 'X5890', 'X5907', 'X5921', 'X5950', 'X5984', 'X5993', 'X6008', 'X6086', 'X6111', 'X6140', 'X6198', 'X6201', 'X6296', 'X6390', 'X6434', 'X6445', 'X6680', 'X6744', 'X6900', 'X6909', 'X6970', 'X6989', 'X6992', 'X7013', 'X7028', 'X7058', 'X7067', 'X7094', 'X7102', 'X7106', 'X7119', 'X7161', 'X7164', 'X7165', 'X7169', 'X7186', 'X7202', 'X7218', 'X7231', 'X7244', 'X7250', 'X7282', 'X7288', 'X7296', 'X7316', 'X7320', 'X7322', 'X7328', 'X7346', 'X7350', 'X7353', 'X7354', 'X7372', 'X7373', 'X7377', 'X7396', 'X7404', 'X7413', 'X7418', 'X7424', 'X7427', 'X7477', 'X7917', 'X8077', 'X8132', 'X8233', 'X8235', 'X8236', 'X8238', 'X8239', 'X8244', 'X8246', 'X8247', 'X8259', 'X8284', 'X8290', 'X8297', 'X8334', 'X8337', 'X8343', 'X8351', 'X8357', 'X8365', 'X8386', 'X8419', 'X8424', 'X9075', 'X9078', 'X9095', 'X9102', 'X9105', 'X9106', 'X9111', 'X9113', 'X9114', 'X9128', 'X9131', 'X9133', 'X9134', 'X9298', 'X9312', 'X9314', 'X9386', 'X9405', 'X9503', 'X9506', 'X9507', 'X9508', 'X9509', 'X9511', 'X9512', 'X9515', 'X9517', 'X9518', 'X9519', 'X9521', 'X9523', 'X9524', 'X9526', 'X9527', 'X9529', 'X9530', 'X9531', 'X9535', 'X9542', 'X9543', 'X9545', 'X9549', 'X9558', 'X9560', 'X9561', 'X9562', 'X9567', 'X9573', 'X9576', 'X9582', 'X9585', 'X9590', 'X9591', 'X9593', 'X9597', 'X9598', 'X9599', 'X9600', 'X9606', 'X9608', 'X9610', 'X9611', 'X9613', 'X9615', 'X9616', 'X9617', 'X9619', 'X9620', 'X9621', 'X9622', 'X9628', 'X9630', 'X9632', 'X9637', 'X9639', 'X9640', 'X9642', 'X9644', 'X9645', 'X9646', 'X9647', 'X9648', 'X9649', 'X9651', 'X9653', 'X9655', 'X9656', 'X9660', 'X9661', 'X9663', 'X9684', 'X9690', 'X9693', 'X9696', 'X9697', 'X9698', 'X9699', 'X9701', 'X9704', 'X9705', 'X9706', 'X9707', 'X9709', 'X9714', 'X9717', 'X9720', 'X9721', 'X9723', 'X9725', 'X9726', 'X9727', 'X9728', 'X9729', 'X9730', 'X9731', 'X9736', 'X9741', 'X9743', 'X9744', 'X9745', 'X9747', 'X9748', 'X9759', 'X9762', 'X9768', 'X9769', 'X9770', 'X9771', 'X9772', 'X9774', 'X9775', 'X9776', 'X9778', 'X9779', 'X9780', 'X9781', 'X9782', 'X9783', 'X9784', 'X9785', 'X9786', 'X9788', 'X9789', 'X9790', 'X9791', 'X9792', 'X9793', 'X9794', 'X9795', 'X9796', 'X9797', 'X9798', 'X9799', 'X9800', 'X9801', 'X9802', 'X9803', 'X9804', 'X9805', 'X9806', 'X9807', 'X9808', 'X9809', 'X9811', 'X9812', 'X9813', 'X9814', 'X9815', 'X9816', 'X9819', 'X9821', 'X9823', 'X9827', 'X9830', 'X9831', 'X9832', 'X9833', 'X9835', 'X9843', 'X9844', 'X9845', 'X9849', 'X9850', 'X9854', 'X9855', 'X9856', 'X9859', 'X9862', 'X9864', 'X9866', 'X9867', 'X9870', 'X9875', 'X9876', 'X9881', 'X9883', 'X9888', 'X9894', 'X9895', 'X9897', 'X9898', 'X9899', 'X9900', 'X9902', 'X9908', 'X9909', 'X9911', 'X9915', 'X9918', 'X9920', 'X9921', 'X9924', 'X9929', 'X9933', 'X9937', 'X9938', 'X9939', 'X9941', 'X9944', 'X9945', 'X9950', 'X9953', 'X9958', 'X9959', 'X9960', 'X9962', 'X9963', 'X9964', 'X9966', 'X9968', 'X9969', 'X9970', 'X9972', 'X9976', 'X9979', 'X9983', 'X9985', 'X9987', 'X9988', 'X9990', 'X9991', 'X9998', 'X10001', 'X10002', 'X10009', 'X10011', 'X10013', 'X10015', 'X10018', 'X10020', 'X10022', 'X10023']\n"
     ]
    }
   ],
   "execution_count": 10
  },
  {
   "metadata": {
    "ExecuteTime": {
     "end_time": "2025-04-03T01:41:19.864094Z",
     "start_time": "2025-04-03T01:35:25.789676Z"
    }
   },
   "cell_type": "code",
   "source": [
    "import pandas as pd\n",
    "\n",
    "# 读取基因表达数据（只读取第一行）\n",
    "gene_df = pd.read_excel(r\"C:\\Users\\Lyttl\\Desktop\\rice\\ninanjie\\data\\gene.xlsx\", sheet_name=0)  # 读取整个表格\n",
    "gene_df.rename(columns={gene_df.columns[0]: \"Gene ID\"}, inplace=True)  # 确保第一列是 Gene ID\n",
    "\n",
    "# 读取表型数据（CSV 文件），尝试不同编码\n",
    "try:\n",
    "    phenotype_df = pd.read_csv(r\"C:\\Users\\Lyttl\\Desktop\\rice\\ninanjie\\data\\modified_file.csv\", nrows=1, encoding=\"utf-8\")  # 默认 UTF-8\n",
    "except UnicodeDecodeError:\n",
    "    try:\n",
    "        phenotype_df = pd.read_csv(r\"C:\\Users\\Lyttl\\Desktop\\rice\\ninanjie\\data\\modified_file.csv\", nrows=1, encoding=\"latin1\")  # 尝试 Latin1\n",
    "    except UnicodeDecodeError:\n",
    "        phenotype_df = pd.read_csv(r\"C:\\Users\\Lyttl\\Desktop\\rice\\ninanjie\\data\\modified_file.csv\", nrows=1, encoding=\"gb18030\")  # 尝试 GB18030\n",
    "\n",
    "\n",
    "# 找出两个文件中相同的样本列（排除第一列）\n",
    "common_samples = list(set(gene_df.columns[1:]) & set(phenotype_df.columns[1:]))\n",
    "\n",
    "# 按原顺序排列\n",
    "common_samples = [col for col in gene_df.columns if col in common_samples]\n",
    "\n",
    "# 筛选基因表达数据，仅保留共同样本列\n",
    "gene_filtered_df = gene_df[[\"Gene ID\"] + common_samples]\n",
    "\n",
    "# 保存过滤后的基因表达数据\n",
    "gene_filtered_df.to_excel(r\"C:\\Users\\Lyttl\\Desktop\\rice\\ninanjie\\data\\combinedflower16.xlsx\", index=False)\n",
    "\n",
    "print(\"文件处理完成，已生成 filtered_gene.xlsx\")\n"
   ],
   "id": "f57ed7f150e72c43",
   "outputs": [
    {
     "name": "stdout",
     "output_type": "stream",
     "text": [
      "文件处理完成，已生成 filtered_gene.xlsx\n"
     ]
    }
   ],
   "execution_count": 12
  },
  {
   "metadata": {},
   "cell_type": "code",
   "outputs": [],
   "execution_count": null,
   "source": "",
   "id": "5e7e870845b2ca7c"
  }
 ],
 "metadata": {
  "kernelspec": {
   "display_name": "Python 3",
   "language": "python",
   "name": "python3"
  },
  "language_info": {
   "codemirror_mode": {
    "name": "ipython",
    "version": 2
   },
   "file_extension": ".py",
   "mimetype": "text/x-python",
   "name": "python",
   "nbconvert_exporter": "python",
   "pygments_lexer": "ipython2",
   "version": "2.7.6"
  }
 },
 "nbformat": 4,
 "nbformat_minor": 5
}
